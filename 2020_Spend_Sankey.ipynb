{
 "cells": [
  {
   "cell_type": "code",
   "execution_count": 96,
   "metadata": {},
   "outputs": [
    {
     "data": {
      "text/html": [
       "        <script type=\"text/javascript\">\n",
       "        window.PlotlyConfig = {MathJaxConfig: 'local'};\n",
       "        if (window.MathJax) {MathJax.Hub.Config({SVG: {font: \"STIX-Web\"}});}\n",
       "        if (typeof require !== 'undefined') {\n",
       "        require.undef(\"plotly\");\n",
       "        requirejs.config({\n",
       "            paths: {\n",
       "                'plotly': ['https://cdn.plot.ly/plotly-latest.min']\n",
       "            }\n",
       "        });\n",
       "        require(['plotly'], function(Plotly) {\n",
       "            window._Plotly = Plotly;\n",
       "        });\n",
       "        }\n",
       "        </script>\n",
       "        "
      ]
     },
     "metadata": {},
     "output_type": "display_data"
    },
    {
     "data": {
      "text/html": [
       "        <script type=\"text/javascript\">\n",
       "        window.PlotlyConfig = {MathJaxConfig: 'local'};\n",
       "        if (window.MathJax) {MathJax.Hub.Config({SVG: {font: \"STIX-Web\"}});}\n",
       "        if (typeof require !== 'undefined') {\n",
       "        require.undef(\"plotly\");\n",
       "        requirejs.config({\n",
       "            paths: {\n",
       "                'plotly': ['https://cdn.plot.ly/plotly-latest.min']\n",
       "            }\n",
       "        });\n",
       "        require(['plotly'], function(Plotly) {\n",
       "            window._Plotly = Plotly;\n",
       "        });\n",
       "        }\n",
       "        </script>\n",
       "        "
      ]
     },
     "metadata": {},
     "output_type": "display_data"
    }
   ],
   "source": [
    "import pandas as pd\n",
    "import numpy as np\n",
    "import chart_studio.plotly as py\n",
    "import cufflinks as cf\n",
    "import seaborn as sns\n",
    "import plotly.express as px\n",
    "import plotly.graph_objects as go\n",
    "%matplotlib inline\n",
    "\n",
    "# Make Plotly work in your Jupyter Notebook\n",
    "from plotly.offline import download_plotlyjs, init_notebook_mode, plot, iplot\n",
    "init_notebook_mode(connected=True)\n",
    "# Use Plotly locally\n",
    "cf.go_offline()"
   ]
  },
  {
   "cell_type": "code",
   "execution_count": 97,
   "metadata": {},
   "outputs": [],
   "source": [
    "df = pd.read_excel(r'c:\\Users\\ngoho\\OneDrive\\Documents\\GitHub\\DSV_Dataset\\2020_Spend.xlsx')\n",
    "df = df[df['Type']=='PAY']"
   ]
  },
  {
   "cell_type": "code",
   "execution_count": 98,
   "metadata": {},
   "outputs": [
    {
     "data": {
      "text/html": [
       "<div>\n",
       "<style scoped>\n",
       "    .dataframe tbody tr th:only-of-type {\n",
       "        vertical-align: middle;\n",
       "    }\n",
       "\n",
       "    .dataframe tbody tr th {\n",
       "        vertical-align: top;\n",
       "    }\n",
       "\n",
       "    .dataframe thead th {\n",
       "        text-align: right;\n",
       "    }\n",
       "</style>\n",
       "<table border=\"1\" class=\"dataframe\">\n",
       "  <thead>\n",
       "    <tr style=\"text-align: right;\">\n",
       "      <th></th>\n",
       "      <th>Creditor/Debtor</th>\n",
       "      <th>Creditor/Debtor Full Name</th>\n",
       "      <th>Type</th>\n",
       "      <th>Transaction Num.</th>\n",
       "      <th>Invoice Date</th>\n",
       "      <th>Post Date</th>\n",
       "      <th>Due Date</th>\n",
       "      <th>Currency</th>\n",
       "      <th>Trans. Amount</th>\n",
       "      <th>Job Number</th>\n",
       "      <th>Invoice Description</th>\n",
       "      <th>Department</th>\n",
       "      <th>Branch</th>\n",
       "    </tr>\n",
       "  </thead>\n",
       "  <tbody>\n",
       "    <tr>\n",
       "      <th>833</th>\n",
       "      <td>6406187172</td>\n",
       "      <td>VAN TAI NGOAI THUONG CO.,JSC</td>\n",
       "      <td>PAY</td>\n",
       "      <td>00001129</td>\n",
       "      <td>2020-05-18 17:38:00</td>\n",
       "      <td>2020-05-18 17:38:00</td>\n",
       "      <td>NaT</td>\n",
       "      <td>VND</td>\n",
       "      <td>880000</td>\n",
       "      <td>NaN</td>\n",
       "      <td>PAYMENT INV 12446</td>\n",
       "      <td>FIN</td>\n",
       "      <td>SGN</td>\n",
       "    </tr>\n",
       "    <tr>\n",
       "      <th>834</th>\n",
       "      <td>6406187172</td>\n",
       "      <td>VAN TAI NGOAI THUONG CO.,JSC</td>\n",
       "      <td>PAY</td>\n",
       "      <td>00001344</td>\n",
       "      <td>2020-05-29 14:30:00</td>\n",
       "      <td>2020-05-28 14:30:00</td>\n",
       "      <td>NaT</td>\n",
       "      <td>VND</td>\n",
       "      <td>3636636</td>\n",
       "      <td>NaN</td>\n",
       "      <td>AP PAYMENT</td>\n",
       "      <td>BRN</td>\n",
       "      <td>HAN</td>\n",
       "    </tr>\n",
       "    <tr>\n",
       "      <th>835</th>\n",
       "      <td>6406187172</td>\n",
       "      <td>VAN TAI NGOAI THUONG CO.,JSC</td>\n",
       "      <td>PAY</td>\n",
       "      <td>00001356</td>\n",
       "      <td>2020-05-28 16:14:00</td>\n",
       "      <td>2020-05-28 16:14:00</td>\n",
       "      <td>2020-05-28 16:14:00</td>\n",
       "      <td>VND</td>\n",
       "      <td>-3636636</td>\n",
       "      <td>NaN</td>\n",
       "      <td>REVERSAL RELATED TO 00001344 - IDE - INCORRECT...</td>\n",
       "      <td>BRN</td>\n",
       "      <td>HAN</td>\n",
       "    </tr>\n",
       "    <tr>\n",
       "      <th>836</th>\n",
       "      <td>6406187172</td>\n",
       "      <td>VAN TAI NGOAI THUONG CO.,JSC</td>\n",
       "      <td>PAY</td>\n",
       "      <td>00001358</td>\n",
       "      <td>2020-05-29 16:16:00</td>\n",
       "      <td>2020-05-28 16:16:00</td>\n",
       "      <td>NaT</td>\n",
       "      <td>VND</td>\n",
       "      <td>3636636</td>\n",
       "      <td>NaN</td>\n",
       "      <td>AP PAYMENT</td>\n",
       "      <td>BRN</td>\n",
       "      <td>HAN</td>\n",
       "    </tr>\n",
       "    <tr>\n",
       "      <th>837</th>\n",
       "      <td>6406187172</td>\n",
       "      <td>VAN TAI NGOAI THUONG CO.,JSC</td>\n",
       "      <td>PAY</td>\n",
       "      <td>00001440</td>\n",
       "      <td>2020-06-01 11:08:00</td>\n",
       "      <td>2020-05-28 11:08:00</td>\n",
       "      <td>2020-06-01 11:08:00</td>\n",
       "      <td>VND</td>\n",
       "      <td>-3636636</td>\n",
       "      <td>NaN</td>\n",
       "      <td>REVERSAL RELATED TO 00001358 - IDE - INCORRECT...</td>\n",
       "      <td>BRN</td>\n",
       "      <td>HAN</td>\n",
       "    </tr>\n",
       "  </tbody>\n",
       "</table>\n",
       "</div>"
      ],
      "text/plain": [
       "     Creditor/Debtor     Creditor/Debtor Full Name Type Transaction Num.  \\\n",
       "833       6406187172  VAN TAI NGOAI THUONG CO.,JSC  PAY         00001129   \n",
       "834       6406187172  VAN TAI NGOAI THUONG CO.,JSC  PAY         00001344   \n",
       "835       6406187172  VAN TAI NGOAI THUONG CO.,JSC  PAY         00001356   \n",
       "836       6406187172  VAN TAI NGOAI THUONG CO.,JSC  PAY         00001358   \n",
       "837       6406187172  VAN TAI NGOAI THUONG CO.,JSC  PAY         00001440   \n",
       "\n",
       "           Invoice Date           Post Date            Due Date Currency  \\\n",
       "833 2020-05-18 17:38:00 2020-05-18 17:38:00                 NaT      VND   \n",
       "834 2020-05-29 14:30:00 2020-05-28 14:30:00                 NaT      VND   \n",
       "835 2020-05-28 16:14:00 2020-05-28 16:14:00 2020-05-28 16:14:00      VND   \n",
       "836 2020-05-29 16:16:00 2020-05-28 16:16:00                 NaT      VND   \n",
       "837 2020-06-01 11:08:00 2020-05-28 11:08:00 2020-06-01 11:08:00      VND   \n",
       "\n",
       "     Trans. Amount Job Number  \\\n",
       "833         880000        NaN   \n",
       "834        3636636        NaN   \n",
       "835       -3636636        NaN   \n",
       "836        3636636        NaN   \n",
       "837       -3636636        NaN   \n",
       "\n",
       "                                   Invoice Description Department Branch  \n",
       "833                                  PAYMENT INV 12446        FIN    SGN  \n",
       "834                                         AP PAYMENT        BRN    HAN  \n",
       "835  REVERSAL RELATED TO 00001344 - IDE - INCORRECT...        BRN    HAN  \n",
       "836                                         AP PAYMENT        BRN    HAN  \n",
       "837  REVERSAL RELATED TO 00001358 - IDE - INCORRECT...        BRN    HAN  "
      ]
     },
     "execution_count": 98,
     "metadata": {},
     "output_type": "execute_result"
    }
   ],
   "source": [
    "df.head()"
   ]
  },
  {
   "cell_type": "code",
   "execution_count": 99,
   "metadata": {},
   "outputs": [],
   "source": [
    "df['YearMonth'] = df['Invoice Date'].apply(lambda x:x.strftime('%Y-%m'))"
   ]
  },
  {
   "cell_type": "code",
   "execution_count": 100,
   "metadata": {},
   "outputs": [
    {
     "data": {
      "text/html": [
       "<div>\n",
       "<style scoped>\n",
       "    .dataframe tbody tr th:only-of-type {\n",
       "        vertical-align: middle;\n",
       "    }\n",
       "\n",
       "    .dataframe tbody tr th {\n",
       "        vertical-align: top;\n",
       "    }\n",
       "\n",
       "    .dataframe thead th {\n",
       "        text-align: right;\n",
       "    }\n",
       "</style>\n",
       "<table border=\"1\" class=\"dataframe\">\n",
       "  <thead>\n",
       "    <tr style=\"text-align: right;\">\n",
       "      <th></th>\n",
       "      <th>Creditor/Debtor</th>\n",
       "      <th>Creditor/Debtor Full Name</th>\n",
       "      <th>Type</th>\n",
       "      <th>Transaction Num.</th>\n",
       "      <th>Invoice Date</th>\n",
       "      <th>Post Date</th>\n",
       "      <th>Due Date</th>\n",
       "      <th>Currency</th>\n",
       "      <th>Trans. Amount</th>\n",
       "      <th>Job Number</th>\n",
       "      <th>Invoice Description</th>\n",
       "      <th>Department</th>\n",
       "      <th>Branch</th>\n",
       "      <th>YearMonth</th>\n",
       "    </tr>\n",
       "  </thead>\n",
       "  <tbody>\n",
       "    <tr>\n",
       "      <th>833</th>\n",
       "      <td>6406187172</td>\n",
       "      <td>VAN TAI NGOAI THUONG CO.,JSC</td>\n",
       "      <td>PAY</td>\n",
       "      <td>00001129</td>\n",
       "      <td>2020-05-18 17:38:00</td>\n",
       "      <td>2020-05-18 17:38:00</td>\n",
       "      <td>NaT</td>\n",
       "      <td>VND</td>\n",
       "      <td>880000</td>\n",
       "      <td>NaN</td>\n",
       "      <td>PAYMENT INV 12446</td>\n",
       "      <td>FIN</td>\n",
       "      <td>SGN</td>\n",
       "      <td>2020-05</td>\n",
       "    </tr>\n",
       "    <tr>\n",
       "      <th>834</th>\n",
       "      <td>6406187172</td>\n",
       "      <td>VAN TAI NGOAI THUONG CO.,JSC</td>\n",
       "      <td>PAY</td>\n",
       "      <td>00001344</td>\n",
       "      <td>2020-05-29 14:30:00</td>\n",
       "      <td>2020-05-28 14:30:00</td>\n",
       "      <td>NaT</td>\n",
       "      <td>VND</td>\n",
       "      <td>3636636</td>\n",
       "      <td>NaN</td>\n",
       "      <td>AP PAYMENT</td>\n",
       "      <td>BRN</td>\n",
       "      <td>HAN</td>\n",
       "      <td>2020-05</td>\n",
       "    </tr>\n",
       "    <tr>\n",
       "      <th>835</th>\n",
       "      <td>6406187172</td>\n",
       "      <td>VAN TAI NGOAI THUONG CO.,JSC</td>\n",
       "      <td>PAY</td>\n",
       "      <td>00001356</td>\n",
       "      <td>2020-05-28 16:14:00</td>\n",
       "      <td>2020-05-28 16:14:00</td>\n",
       "      <td>2020-05-28 16:14:00</td>\n",
       "      <td>VND</td>\n",
       "      <td>-3636636</td>\n",
       "      <td>NaN</td>\n",
       "      <td>REVERSAL RELATED TO 00001344 - IDE - INCORRECT...</td>\n",
       "      <td>BRN</td>\n",
       "      <td>HAN</td>\n",
       "      <td>2020-05</td>\n",
       "    </tr>\n",
       "    <tr>\n",
       "      <th>836</th>\n",
       "      <td>6406187172</td>\n",
       "      <td>VAN TAI NGOAI THUONG CO.,JSC</td>\n",
       "      <td>PAY</td>\n",
       "      <td>00001358</td>\n",
       "      <td>2020-05-29 16:16:00</td>\n",
       "      <td>2020-05-28 16:16:00</td>\n",
       "      <td>NaT</td>\n",
       "      <td>VND</td>\n",
       "      <td>3636636</td>\n",
       "      <td>NaN</td>\n",
       "      <td>AP PAYMENT</td>\n",
       "      <td>BRN</td>\n",
       "      <td>HAN</td>\n",
       "      <td>2020-05</td>\n",
       "    </tr>\n",
       "    <tr>\n",
       "      <th>837</th>\n",
       "      <td>6406187172</td>\n",
       "      <td>VAN TAI NGOAI THUONG CO.,JSC</td>\n",
       "      <td>PAY</td>\n",
       "      <td>00001440</td>\n",
       "      <td>2020-06-01 11:08:00</td>\n",
       "      <td>2020-05-28 11:08:00</td>\n",
       "      <td>2020-06-01 11:08:00</td>\n",
       "      <td>VND</td>\n",
       "      <td>-3636636</td>\n",
       "      <td>NaN</td>\n",
       "      <td>REVERSAL RELATED TO 00001358 - IDE - INCORRECT...</td>\n",
       "      <td>BRN</td>\n",
       "      <td>HAN</td>\n",
       "      <td>2020-06</td>\n",
       "    </tr>\n",
       "  </tbody>\n",
       "</table>\n",
       "</div>"
      ],
      "text/plain": [
       "     Creditor/Debtor     Creditor/Debtor Full Name Type Transaction Num.  \\\n",
       "833       6406187172  VAN TAI NGOAI THUONG CO.,JSC  PAY         00001129   \n",
       "834       6406187172  VAN TAI NGOAI THUONG CO.,JSC  PAY         00001344   \n",
       "835       6406187172  VAN TAI NGOAI THUONG CO.,JSC  PAY         00001356   \n",
       "836       6406187172  VAN TAI NGOAI THUONG CO.,JSC  PAY         00001358   \n",
       "837       6406187172  VAN TAI NGOAI THUONG CO.,JSC  PAY         00001440   \n",
       "\n",
       "           Invoice Date           Post Date            Due Date Currency  \\\n",
       "833 2020-05-18 17:38:00 2020-05-18 17:38:00                 NaT      VND   \n",
       "834 2020-05-29 14:30:00 2020-05-28 14:30:00                 NaT      VND   \n",
       "835 2020-05-28 16:14:00 2020-05-28 16:14:00 2020-05-28 16:14:00      VND   \n",
       "836 2020-05-29 16:16:00 2020-05-28 16:16:00                 NaT      VND   \n",
       "837 2020-06-01 11:08:00 2020-05-28 11:08:00 2020-06-01 11:08:00      VND   \n",
       "\n",
       "     Trans. Amount Job Number  \\\n",
       "833         880000        NaN   \n",
       "834        3636636        NaN   \n",
       "835       -3636636        NaN   \n",
       "836        3636636        NaN   \n",
       "837       -3636636        NaN   \n",
       "\n",
       "                                   Invoice Description Department Branch  \\\n",
       "833                                  PAYMENT INV 12446        FIN    SGN   \n",
       "834                                         AP PAYMENT        BRN    HAN   \n",
       "835  REVERSAL RELATED TO 00001344 - IDE - INCORRECT...        BRN    HAN   \n",
       "836                                         AP PAYMENT        BRN    HAN   \n",
       "837  REVERSAL RELATED TO 00001358 - IDE - INCORRECT...        BRN    HAN   \n",
       "\n",
       "    YearMonth  \n",
       "833   2020-05  \n",
       "834   2020-05  \n",
       "835   2020-05  \n",
       "836   2020-05  \n",
       "837   2020-06  "
      ]
     },
     "execution_count": 100,
     "metadata": {},
     "output_type": "execute_result"
    }
   ],
   "source": [
    "df.head()"
   ]
  },
  {
   "cell_type": "code",
   "execution_count": 117,
   "metadata": {},
   "outputs": [
    {
     "data": {
      "text/html": [
       "<div>\n",
       "<style scoped>\n",
       "    .dataframe tbody tr th:only-of-type {\n",
       "        vertical-align: middle;\n",
       "    }\n",
       "\n",
       "    .dataframe tbody tr th {\n",
       "        vertical-align: top;\n",
       "    }\n",
       "\n",
       "    .dataframe thead th {\n",
       "        text-align: right;\n",
       "    }\n",
       "</style>\n",
       "<table border=\"1\" class=\"dataframe\">\n",
       "  <thead>\n",
       "    <tr style=\"text-align: right;\">\n",
       "      <th></th>\n",
       "      <th>Branch</th>\n",
       "      <th>Creditor/Debtor Full Name</th>\n",
       "      <th>Trans. Amount</th>\n",
       "    </tr>\n",
       "  </thead>\n",
       "  <tbody>\n",
       "    <tr>\n",
       "      <th>0</th>\n",
       "      <td>HAN</td>\n",
       "      <td>ALS AVIATION LOGISTICS</td>\n",
       "      <td>2.839233e+08</td>\n",
       "    </tr>\n",
       "    <tr>\n",
       "      <th>1</th>\n",
       "      <td>HAN</td>\n",
       "      <td>ALS BAC NINH CO., LTD</td>\n",
       "      <td>1.895266e+08</td>\n",
       "    </tr>\n",
       "    <tr>\n",
       "      <th>2</th>\n",
       "      <td>HAN</td>\n",
       "      <td>BAC KY.,JSC</td>\n",
       "      <td>3.175265e+07</td>\n",
       "    </tr>\n",
       "    <tr>\n",
       "      <th>3</th>\n",
       "      <td>HAN</td>\n",
       "      <td>CONG TY CO PHAN KHO VAN VIETFRACHT HUNG YEN</td>\n",
       "      <td>1.565447e+08</td>\n",
       "    </tr>\n",
       "    <tr>\n",
       "      <th>4</th>\n",
       "      <td>HAN</td>\n",
       "      <td>CONG TY CO PHAN TAP DOAN PHU THAI</td>\n",
       "      <td>6.463155e+07</td>\n",
       "    </tr>\n",
       "  </tbody>\n",
       "</table>\n",
       "</div>"
      ],
      "text/plain": [
       "  Branch                    Creditor/Debtor Full Name  Trans. Amount\n",
       "0    HAN                       ALS AVIATION LOGISTICS   2.839233e+08\n",
       "1    HAN                        ALS BAC NINH CO., LTD   1.895266e+08\n",
       "2    HAN                                  BAC KY.,JSC   3.175265e+07\n",
       "3    HAN  CONG TY CO PHAN KHO VAN VIETFRACHT HUNG YEN   1.565447e+08\n",
       "4    HAN            CONG TY CO PHAN TAP DOAN PHU THAI   6.463155e+07"
      ]
     },
     "execution_count": 117,
     "metadata": {},
     "output_type": "execute_result"
    }
   ],
   "source": [
    "#pd.pivot_table(df,index=[\"Manager\",\"Rep\"],values=[\"Price\"])\n",
    "#df = df.reset_index().rename_axis(None, axis=1)\n",
    "df_sk = pd.pivot_table(df,index = ['Branch','Creditor/Debtor Full Name'],values = ['Trans. Amount'])\n",
    "df_sk = df_sk.reset_index().rename_axis(None, axis=1)\n",
    "df_sk.head()"
   ]
  },
  {
   "cell_type": "code",
   "execution_count": 114,
   "metadata": {},
   "outputs": [],
   "source": [
    "df_1= df.groupby('Branch').sum()\n",
    "df_1 = df_1.reset_index().rename_axis(None, axis=1)\n",
    "df_1.drop(['Branch','Creditor/Debtor'], axis=1, inplace=True)\n",
    "df_2= df.groupby('Type').sum()\n",
    "df_2 = df_2.reset_index().rename_axis(None, axis=1)\n",
    "df_2.drop(['Type','Creditor/Debtor'], axis=1, inplace=True)\n",
    "\n",
    "df_3=df_sk.drop(['Branch','Creditor/Debtor Full Name'], axis=1)\n",
    "\n",
    "df_all = df_2.append(df_1)\n",
    "df_all = df_all.append(df_3)\n",
    "df_all['Trans. Amount']\n",
    "\n",
    "\n",
    "df1 = df.groupby('Branch').sum()\n",
    "df1 = df1.reset_index().rename_axis(None, axis=1)\n",
    "df1.drop(['Trans. Amount','Creditor/Debtor'], axis=1, inplace=True)\n",
    "\n",
    "df3=df_sk.drop(['Branch','Trans. Amount'], axis=1)\n",
    "\n",
    "df3=df3.rename(columns={'Creditor/Debtor Full Name':'Branch'})\n",
    "df_lab =df1.append(df3)\n",
    "df_lab\n",
    "\n",
    "df4 =pd.DataFrame({\"Branch\": ['DSV']})\n",
    "\n",
    "df_sk_lab =df4.append(df_lab)\n",
    "label = df_sk_lab "
   ]
  },
  {
   "cell_type": "code",
   "execution_count": 120,
   "metadata": {},
   "outputs": [
    {
     "name": "stdout",
     "output_type": "stream",
     "text": [
      "Sankey({\n",
      "    'link': {'source': [0, 0, 1, 1, 1, 1, 1, 1, 1, 1, 1, 1, 1, 1, 1, 1, 2, 2, 2,\n",
      "                        2, 2, 2, 2, 2, 2, 2, 2, 2, 2, 2, 2, 2, 2, 2, 2, 2],\n",
      "             'target': [1, 2, 3, 4, 5, 6, 7, 8, 9, 10, 11, 12, 13, 14, 15, 16, 17,\n",
      "                        18, 19, 20, 21, 22, 23, 24, 25, 26, 27, 28, 29, 30, 31, 32,\n",
      "                        33, 34],\n",
      "             'value': array([4.31166457e+10, 1.40453894e+10, 2.90712562e+10, 2.83923257e+08,\n",
      "                             1.89526635e+08, 3.17526482e+07, 1.56544654e+08, 6.46315515e+07,\n",
      "                             4.58977750e+06, 5.32922849e+07, 1.13401805e+07, 2.62035714e+07,\n",
      "                             1.94954457e+07, 7.61946475e+06, 1.40205789e+08, 1.45627533e+06,\n",
      "                             1.74805763e+08, 2.94925220e+08, 1.15329893e+08, 9.62626000e+07,\n",
      "                             6.45827834e+07, 1.22528340e+08, 5.52516300e+06, 5.75493691e+07,\n",
      "                             9.75551359e+07, 4.18112307e+07, 1.21758746e+07, 8.58000000e+07,\n",
      "                             6.91143715e+07, 6.93032594e+07, 3.16615650e+07, 2.70480208e+07,\n",
      "                             1.67822146e+08, 3.48116365e+08, 3.70302812e+08, 1.07690000e+05,\n",
      "                             2.15634450e+08])},\n",
      "    'node': {'label': array([['DSV'],\n",
      "                             ['HAN'],\n",
      "                             ['SGN'],\n",
      "                             ['ALS AVIATION LOGISTICS'],\n",
      "                             ['ALS BAC NINH CO., LTD'],\n",
      "                             ['BAC KY.,JSC'],\n",
      "                             ['CONG TY CO PHAN KHO VAN VIETFRACHT HUNG YEN'],\n",
      "                             ['CONG TY CO PHAN TAP DOAN PHU THAI'],\n",
      "                             ['CONG TY CO PHAN UNIFREIGHT GLOBAL'],\n",
      "                             ['CONG TY CO PHAN VAN TAI BIEN DONG PHIA NAM'],\n",
      "                             ['CONG TY CP CHUYEN PHAT NHANH NEW POST'],\n",
      "                             ['CONG TY HOP LUC - (TNHH)'],\n",
      "                             ['CONG TY TNHH KERRY EXPRESS (VIET NAM) CHI NHANH DA'],\n",
      "                             ['CONG TY TNHH KERRY EXPRESS (VIETNAM) CN BINH DUONG'],\n",
      "                             ['DELTA INTERNATIONAL CO.,LTD'],\n",
      "                             ['Kerry Express (Vietnam) Limited - Hanoi'],\n",
      "                             ['VAN TAI NGOAI THUONG CO.,JSC'],\n",
      "                             ['ALS AVIATION LOGISTICS'],\n",
      "                             ['ALS BAC NINH CO., LTD'],\n",
      "                             ['BAC KY.,JSC'],\n",
      "                             ['BRANCH OF NOI BAI EXPRESS AND AND TRADING JOINT ST'],\n",
      "                             ['CONG TY CO PHAN KHO VAN VIETFRACHT HUNG YEN'],\n",
      "                             ['CONG TY CO PHAN TAP DOAN PHU THAI'],\n",
      "                             ['CONG TY CO PHAN TM VAN TAI CHAN PHAT'],\n",
      "                             ['CONG TY CO PHAN UNIFREIGHT GLOBAL'],\n",
      "                             ['CONG TY CO PHAN VAN TAI BIEN DONG PHIA NAM'],\n",
      "                             ['CONG TY CP CHUYEN PHAT NHANH NEW POST'],\n",
      "                             ['CONG TY HOP LUC - (TNHH)'],\n",
      "                             ['CONG TY TNHH DICH VU VAN TAI SONG HA'],\n",
      "                             ['CONG TY TNHH GIAO NHAN SCT'],\n",
      "                             ['CONG TY TNHH KERRY EXPRESS (VIET NAM) CHI NHANH DA'],\n",
      "                             ['CONG TY TNHH KERRY EXPRESS (VIETNAM) CN BINH DUONG'],\n",
      "                             ['CONG TY TNHH VAN TAI TM-VT THANH AN'],\n",
      "                             ['DELTA INTERNATIONAL CO., LTD'],\n",
      "                             ['DELTA INTERNATIONAL CO.,LTD'],\n",
      "                             ['Kerry Express (Vietnam) Limited - Hanoi'],\n",
      "                             ['VAN TAI NGOAI THUONG CO.,JSC']], dtype=object),\n",
      "             'pad': 25,\n",
      "             'thickness': 50}\n",
      "})\n"
     ]
    }
   ],
   "source": [
    "source = [  #Branch\n",
    "        0,0,\n",
    "    1,1,1,1,1,1,1,1,1,1,1,1,1,1, # HAN\n",
    "         2,2,2,2,2,2,2,2,2,2,2,2,2,2,2,2,2,2,2,2 # SGN\n",
    "         ]  \n",
    "target =  [1,2,3,4,5,6,7,8,9,10,11,12,13,14,15,16,17,18,19,20,21,22,23,24,25,26,27,28,29,30,31,32,33,34]\n",
    "\n",
    "link = dict(source = source, target = target, value = df_all['Trans. Amount'])\n",
    "\n",
    "node = dict(label = label, pad=25, thickness=50)\n",
    "\n",
    "data = go.Sankey(link = link, node = node)\n",
    "print(data)\n",
    "\n"
   ]
  },
  {
   "cell_type": "code",
   "execution_count": 118,
   "metadata": {},
   "outputs": [
    {
     "data": {
      "application/vnd.plotly.v1+json": {
       "config": {
        "plotlyServerURL": "https://plot.ly"
       },
       "data": [
        {
         "link": {
          "source": [
           0,
           0,
           1,
           1,
           1,
           1,
           1,
           1,
           1,
           1,
           1,
           1,
           1,
           1,
           1,
           1,
           2,
           2,
           2,
           2,
           2,
           2,
           2,
           2,
           2,
           2,
           2,
           2,
           2,
           2,
           2,
           2,
           2,
           2,
           2,
           2
          ],
          "target": [
           1,
           2,
           3,
           4,
           5,
           6,
           7,
           8,
           9,
           10,
           11,
           12,
           13,
           14,
           15,
           16,
           17,
           18,
           19,
           20,
           21,
           22,
           23,
           24,
           25,
           26,
           27,
           28,
           29,
           30,
           31,
           32,
           33,
           34
          ],
          "value": [
           43116645669,
           14045389422,
           29071256247,
           283923256.68421054,
           189526634.91666666,
           31752648.2,
           156544653.57142857,
           64631551.5,
           4589777.5,
           53292284.85714286,
           11340180.461538462,
           26203571.42857143,
           19495445.666666668,
           7619464.75,
           140205789.33333334,
           1456275.3333333333,
           174805763.14285713,
           294925219.5,
           115329892.66666667,
           96262600,
           64582783.375,
           122528340,
           5525163,
           57549369.09090909,
           97555135.90625,
           41811230.692307696,
           12175874.615384616,
           85800000,
           69114371.47058824,
           69303259.44,
           31661565,
           27048020.8125,
           167822145.8,
           348116364.6551724,
           370302811.9166667,
           107690,
           215634449.8
          ]
         },
         "node": {
          "label": [
           [
            "DSV"
           ],
           [
            "HAN"
           ],
           [
            "SGN"
           ],
           [
            "ALS AVIATION LOGISTICS"
           ],
           [
            "ALS BAC NINH CO., LTD"
           ],
           [
            "BAC KY.,JSC"
           ],
           [
            "CONG TY CO PHAN KHO VAN VIETFRACHT HUNG YEN"
           ],
           [
            "CONG TY CO PHAN TAP DOAN PHU THAI"
           ],
           [
            "CONG TY CO PHAN UNIFREIGHT GLOBAL"
           ],
           [
            "CONG TY CO PHAN VAN TAI BIEN DONG PHIA NAM"
           ],
           [
            "CONG TY CP CHUYEN PHAT NHANH NEW POST"
           ],
           [
            "CONG TY HOP LUC - (TNHH)"
           ],
           [
            "CONG TY TNHH KERRY EXPRESS (VIET NAM) CHI NHANH DA"
           ],
           [
            "CONG TY TNHH KERRY EXPRESS (VIETNAM) CN BINH DUONG"
           ],
           [
            "DELTA INTERNATIONAL CO.,LTD"
           ],
           [
            "Kerry Express (Vietnam) Limited - Hanoi"
           ],
           [
            "VAN TAI NGOAI THUONG CO.,JSC"
           ],
           [
            "ALS AVIATION LOGISTICS"
           ],
           [
            "ALS BAC NINH CO., LTD"
           ],
           [
            "BAC KY.,JSC"
           ],
           [
            "BRANCH OF NOI BAI EXPRESS AND AND TRADING JOINT ST"
           ],
           [
            "CONG TY CO PHAN KHO VAN VIETFRACHT HUNG YEN"
           ],
           [
            "CONG TY CO PHAN TAP DOAN PHU THAI"
           ],
           [
            "CONG TY CO PHAN TM VAN TAI CHAN PHAT"
           ],
           [
            "CONG TY CO PHAN UNIFREIGHT GLOBAL"
           ],
           [
            "CONG TY CO PHAN VAN TAI BIEN DONG PHIA NAM"
           ],
           [
            "CONG TY CP CHUYEN PHAT NHANH NEW POST"
           ],
           [
            "CONG TY HOP LUC - (TNHH)"
           ],
           [
            "CONG TY TNHH DICH VU VAN TAI SONG HA"
           ],
           [
            "CONG TY TNHH GIAO NHAN SCT"
           ],
           [
            "CONG TY TNHH KERRY EXPRESS (VIET NAM) CHI NHANH DA"
           ],
           [
            "CONG TY TNHH KERRY EXPRESS (VIETNAM) CN BINH DUONG"
           ],
           [
            "CONG TY TNHH VAN TAI TM-VT THANH AN"
           ],
           [
            "DELTA INTERNATIONAL CO., LTD"
           ],
           [
            "DELTA INTERNATIONAL CO.,LTD"
           ],
           [
            "Kerry Express (Vietnam) Limited - Hanoi"
           ],
           [
            "VAN TAI NGOAI THUONG CO.,JSC"
           ]
          ],
          "pad": 15,
          "thickness": 5
         },
         "type": "sankey"
        }
       ],
       "layout": {
        "template": {
         "data": {
          "bar": [
           {
            "error_x": {
             "color": "#2a3f5f"
            },
            "error_y": {
             "color": "#2a3f5f"
            },
            "marker": {
             "line": {
              "color": "#E5ECF6",
              "width": 0.5
             }
            },
            "type": "bar"
           }
          ],
          "barpolar": [
           {
            "marker": {
             "line": {
              "color": "#E5ECF6",
              "width": 0.5
             }
            },
            "type": "barpolar"
           }
          ],
          "carpet": [
           {
            "aaxis": {
             "endlinecolor": "#2a3f5f",
             "gridcolor": "white",
             "linecolor": "white",
             "minorgridcolor": "white",
             "startlinecolor": "#2a3f5f"
            },
            "baxis": {
             "endlinecolor": "#2a3f5f",
             "gridcolor": "white",
             "linecolor": "white",
             "minorgridcolor": "white",
             "startlinecolor": "#2a3f5f"
            },
            "type": "carpet"
           }
          ],
          "choropleth": [
           {
            "colorbar": {
             "outlinewidth": 0,
             "ticks": ""
            },
            "type": "choropleth"
           }
          ],
          "contour": [
           {
            "colorbar": {
             "outlinewidth": 0,
             "ticks": ""
            },
            "colorscale": [
             [
              0,
              "#0d0887"
             ],
             [
              0.1111111111111111,
              "#46039f"
             ],
             [
              0.2222222222222222,
              "#7201a8"
             ],
             [
              0.3333333333333333,
              "#9c179e"
             ],
             [
              0.4444444444444444,
              "#bd3786"
             ],
             [
              0.5555555555555556,
              "#d8576b"
             ],
             [
              0.6666666666666666,
              "#ed7953"
             ],
             [
              0.7777777777777778,
              "#fb9f3a"
             ],
             [
              0.8888888888888888,
              "#fdca26"
             ],
             [
              1,
              "#f0f921"
             ]
            ],
            "type": "contour"
           }
          ],
          "contourcarpet": [
           {
            "colorbar": {
             "outlinewidth": 0,
             "ticks": ""
            },
            "type": "contourcarpet"
           }
          ],
          "heatmap": [
           {
            "colorbar": {
             "outlinewidth": 0,
             "ticks": ""
            },
            "colorscale": [
             [
              0,
              "#0d0887"
             ],
             [
              0.1111111111111111,
              "#46039f"
             ],
             [
              0.2222222222222222,
              "#7201a8"
             ],
             [
              0.3333333333333333,
              "#9c179e"
             ],
             [
              0.4444444444444444,
              "#bd3786"
             ],
             [
              0.5555555555555556,
              "#d8576b"
             ],
             [
              0.6666666666666666,
              "#ed7953"
             ],
             [
              0.7777777777777778,
              "#fb9f3a"
             ],
             [
              0.8888888888888888,
              "#fdca26"
             ],
             [
              1,
              "#f0f921"
             ]
            ],
            "type": "heatmap"
           }
          ],
          "heatmapgl": [
           {
            "colorbar": {
             "outlinewidth": 0,
             "ticks": ""
            },
            "colorscale": [
             [
              0,
              "#0d0887"
             ],
             [
              0.1111111111111111,
              "#46039f"
             ],
             [
              0.2222222222222222,
              "#7201a8"
             ],
             [
              0.3333333333333333,
              "#9c179e"
             ],
             [
              0.4444444444444444,
              "#bd3786"
             ],
             [
              0.5555555555555556,
              "#d8576b"
             ],
             [
              0.6666666666666666,
              "#ed7953"
             ],
             [
              0.7777777777777778,
              "#fb9f3a"
             ],
             [
              0.8888888888888888,
              "#fdca26"
             ],
             [
              1,
              "#f0f921"
             ]
            ],
            "type": "heatmapgl"
           }
          ],
          "histogram": [
           {
            "marker": {
             "colorbar": {
              "outlinewidth": 0,
              "ticks": ""
             }
            },
            "type": "histogram"
           }
          ],
          "histogram2d": [
           {
            "colorbar": {
             "outlinewidth": 0,
             "ticks": ""
            },
            "colorscale": [
             [
              0,
              "#0d0887"
             ],
             [
              0.1111111111111111,
              "#46039f"
             ],
             [
              0.2222222222222222,
              "#7201a8"
             ],
             [
              0.3333333333333333,
              "#9c179e"
             ],
             [
              0.4444444444444444,
              "#bd3786"
             ],
             [
              0.5555555555555556,
              "#d8576b"
             ],
             [
              0.6666666666666666,
              "#ed7953"
             ],
             [
              0.7777777777777778,
              "#fb9f3a"
             ],
             [
              0.8888888888888888,
              "#fdca26"
             ],
             [
              1,
              "#f0f921"
             ]
            ],
            "type": "histogram2d"
           }
          ],
          "histogram2dcontour": [
           {
            "colorbar": {
             "outlinewidth": 0,
             "ticks": ""
            },
            "colorscale": [
             [
              0,
              "#0d0887"
             ],
             [
              0.1111111111111111,
              "#46039f"
             ],
             [
              0.2222222222222222,
              "#7201a8"
             ],
             [
              0.3333333333333333,
              "#9c179e"
             ],
             [
              0.4444444444444444,
              "#bd3786"
             ],
             [
              0.5555555555555556,
              "#d8576b"
             ],
             [
              0.6666666666666666,
              "#ed7953"
             ],
             [
              0.7777777777777778,
              "#fb9f3a"
             ],
             [
              0.8888888888888888,
              "#fdca26"
             ],
             [
              1,
              "#f0f921"
             ]
            ],
            "type": "histogram2dcontour"
           }
          ],
          "mesh3d": [
           {
            "colorbar": {
             "outlinewidth": 0,
             "ticks": ""
            },
            "type": "mesh3d"
           }
          ],
          "parcoords": [
           {
            "line": {
             "colorbar": {
              "outlinewidth": 0,
              "ticks": ""
             }
            },
            "type": "parcoords"
           }
          ],
          "pie": [
           {
            "automargin": true,
            "type": "pie"
           }
          ],
          "scatter": [
           {
            "marker": {
             "colorbar": {
              "outlinewidth": 0,
              "ticks": ""
             }
            },
            "type": "scatter"
           }
          ],
          "scatter3d": [
           {
            "line": {
             "colorbar": {
              "outlinewidth": 0,
              "ticks": ""
             }
            },
            "marker": {
             "colorbar": {
              "outlinewidth": 0,
              "ticks": ""
             }
            },
            "type": "scatter3d"
           }
          ],
          "scattercarpet": [
           {
            "marker": {
             "colorbar": {
              "outlinewidth": 0,
              "ticks": ""
             }
            },
            "type": "scattercarpet"
           }
          ],
          "scattergeo": [
           {
            "marker": {
             "colorbar": {
              "outlinewidth": 0,
              "ticks": ""
             }
            },
            "type": "scattergeo"
           }
          ],
          "scattergl": [
           {
            "marker": {
             "colorbar": {
              "outlinewidth": 0,
              "ticks": ""
             }
            },
            "type": "scattergl"
           }
          ],
          "scattermapbox": [
           {
            "marker": {
             "colorbar": {
              "outlinewidth": 0,
              "ticks": ""
             }
            },
            "type": "scattermapbox"
           }
          ],
          "scatterpolar": [
           {
            "marker": {
             "colorbar": {
              "outlinewidth": 0,
              "ticks": ""
             }
            },
            "type": "scatterpolar"
           }
          ],
          "scatterpolargl": [
           {
            "marker": {
             "colorbar": {
              "outlinewidth": 0,
              "ticks": ""
             }
            },
            "type": "scatterpolargl"
           }
          ],
          "scatterternary": [
           {
            "marker": {
             "colorbar": {
              "outlinewidth": 0,
              "ticks": ""
             }
            },
            "type": "scatterternary"
           }
          ],
          "surface": [
           {
            "colorbar": {
             "outlinewidth": 0,
             "ticks": ""
            },
            "colorscale": [
             [
              0,
              "#0d0887"
             ],
             [
              0.1111111111111111,
              "#46039f"
             ],
             [
              0.2222222222222222,
              "#7201a8"
             ],
             [
              0.3333333333333333,
              "#9c179e"
             ],
             [
              0.4444444444444444,
              "#bd3786"
             ],
             [
              0.5555555555555556,
              "#d8576b"
             ],
             [
              0.6666666666666666,
              "#ed7953"
             ],
             [
              0.7777777777777778,
              "#fb9f3a"
             ],
             [
              0.8888888888888888,
              "#fdca26"
             ],
             [
              1,
              "#f0f921"
             ]
            ],
            "type": "surface"
           }
          ],
          "table": [
           {
            "cells": {
             "fill": {
              "color": "#EBF0F8"
             },
             "line": {
              "color": "white"
             }
            },
            "header": {
             "fill": {
              "color": "#C8D4E3"
             },
             "line": {
              "color": "white"
             }
            },
            "type": "table"
           }
          ]
         },
         "layout": {
          "annotationdefaults": {
           "arrowcolor": "#2a3f5f",
           "arrowhead": 0,
           "arrowwidth": 1
          },
          "autotypenumbers": "strict",
          "coloraxis": {
           "colorbar": {
            "outlinewidth": 0,
            "ticks": ""
           }
          },
          "colorscale": {
           "diverging": [
            [
             0,
             "#8e0152"
            ],
            [
             0.1,
             "#c51b7d"
            ],
            [
             0.2,
             "#de77ae"
            ],
            [
             0.3,
             "#f1b6da"
            ],
            [
             0.4,
             "#fde0ef"
            ],
            [
             0.5,
             "#f7f7f7"
            ],
            [
             0.6,
             "#e6f5d0"
            ],
            [
             0.7,
             "#b8e186"
            ],
            [
             0.8,
             "#7fbc41"
            ],
            [
             0.9,
             "#4d9221"
            ],
            [
             1,
             "#276419"
            ]
           ],
           "sequential": [
            [
             0,
             "#0d0887"
            ],
            [
             0.1111111111111111,
             "#46039f"
            ],
            [
             0.2222222222222222,
             "#7201a8"
            ],
            [
             0.3333333333333333,
             "#9c179e"
            ],
            [
             0.4444444444444444,
             "#bd3786"
            ],
            [
             0.5555555555555556,
             "#d8576b"
            ],
            [
             0.6666666666666666,
             "#ed7953"
            ],
            [
             0.7777777777777778,
             "#fb9f3a"
            ],
            [
             0.8888888888888888,
             "#fdca26"
            ],
            [
             1,
             "#f0f921"
            ]
           ],
           "sequentialminus": [
            [
             0,
             "#0d0887"
            ],
            [
             0.1111111111111111,
             "#46039f"
            ],
            [
             0.2222222222222222,
             "#7201a8"
            ],
            [
             0.3333333333333333,
             "#9c179e"
            ],
            [
             0.4444444444444444,
             "#bd3786"
            ],
            [
             0.5555555555555556,
             "#d8576b"
            ],
            [
             0.6666666666666666,
             "#ed7953"
            ],
            [
             0.7777777777777778,
             "#fb9f3a"
            ],
            [
             0.8888888888888888,
             "#fdca26"
            ],
            [
             1,
             "#f0f921"
            ]
           ]
          },
          "colorway": [
           "#636efa",
           "#EF553B",
           "#00cc96",
           "#ab63fa",
           "#FFA15A",
           "#19d3f3",
           "#FF6692",
           "#B6E880",
           "#FF97FF",
           "#FECB52"
          ],
          "font": {
           "color": "#2a3f5f"
          },
          "geo": {
           "bgcolor": "white",
           "lakecolor": "white",
           "landcolor": "#E5ECF6",
           "showlakes": true,
           "showland": true,
           "subunitcolor": "white"
          },
          "hoverlabel": {
           "align": "left"
          },
          "hovermode": "closest",
          "mapbox": {
           "style": "light"
          },
          "paper_bgcolor": "white",
          "plot_bgcolor": "#E5ECF6",
          "polar": {
           "angularaxis": {
            "gridcolor": "white",
            "linecolor": "white",
            "ticks": ""
           },
           "bgcolor": "#E5ECF6",
           "radialaxis": {
            "gridcolor": "white",
            "linecolor": "white",
            "ticks": ""
           }
          },
          "scene": {
           "xaxis": {
            "backgroundcolor": "#E5ECF6",
            "gridcolor": "white",
            "gridwidth": 2,
            "linecolor": "white",
            "showbackground": true,
            "ticks": "",
            "zerolinecolor": "white"
           },
           "yaxis": {
            "backgroundcolor": "#E5ECF6",
            "gridcolor": "white",
            "gridwidth": 2,
            "linecolor": "white",
            "showbackground": true,
            "ticks": "",
            "zerolinecolor": "white"
           },
           "zaxis": {
            "backgroundcolor": "#E5ECF6",
            "gridcolor": "white",
            "gridwidth": 2,
            "linecolor": "white",
            "showbackground": true,
            "ticks": "",
            "zerolinecolor": "white"
           }
          },
          "shapedefaults": {
           "line": {
            "color": "#2a3f5f"
           }
          },
          "ternary": {
           "aaxis": {
            "gridcolor": "white",
            "linecolor": "white",
            "ticks": ""
           },
           "baxis": {
            "gridcolor": "white",
            "linecolor": "white",
            "ticks": ""
           },
           "bgcolor": "#E5ECF6",
           "caxis": {
            "gridcolor": "white",
            "linecolor": "white",
            "ticks": ""
           }
          },
          "title": {
           "x": 0.05
          },
          "xaxis": {
           "automargin": true,
           "gridcolor": "white",
           "linecolor": "white",
           "ticks": "",
           "title": {
            "standoff": 15
           },
           "zerolinecolor": "white",
           "zerolinewidth": 2
          },
          "yaxis": {
           "automargin": true,
           "gridcolor": "white",
           "linecolor": "white",
           "ticks": "",
           "title": {
            "standoff": 15
           },
           "zerolinecolor": "white",
           "zerolinewidth": 2
          }
         }
        }
       }
      },
      "text/html": [
       "<div>                            <div id=\"ce9f742e-7657-47fb-b980-f00f82c2ea6f\" class=\"plotly-graph-div\" style=\"height:525px; width:100%;\"></div>            <script type=\"text/javascript\">                require([\"plotly\"], function(Plotly) {                    window.PLOTLYENV=window.PLOTLYENV || {};                                    if (document.getElementById(\"ce9f742e-7657-47fb-b980-f00f82c2ea6f\")) {                    Plotly.newPlot(                        \"ce9f742e-7657-47fb-b980-f00f82c2ea6f\",                        [{\"link\": {\"source\": [0, 0, 1, 1, 1, 1, 1, 1, 1, 1, 1, 1, 1, 1, 1, 1, 2, 2, 2, 2, 2, 2, 2, 2, 2, 2, 2, 2, 2, 2, 2, 2, 2, 2, 2, 2], \"target\": [1, 2, 3, 4, 5, 6, 7, 8, 9, 10, 11, 12, 13, 14, 15, 16, 17, 18, 19, 20, 21, 22, 23, 24, 25, 26, 27, 28, 29, 30, 31, 32, 33, 34], \"value\": [43116645669.0, 14045389422.0, 29071256247.0, 283923256.68421054, 189526634.91666666, 31752648.2, 156544653.57142857, 64631551.5, 4589777.5, 53292284.85714286, 11340180.461538462, 26203571.42857143, 19495445.666666668, 7619464.75, 140205789.33333334, 1456275.3333333333, 174805763.14285713, 294925219.5, 115329892.66666667, 96262600.0, 64582783.375, 122528340.0, 5525163.0, 57549369.09090909, 97555135.90625, 41811230.692307696, 12175874.615384616, 85800000.0, 69114371.47058824, 69303259.44, 31661565.0, 27048020.8125, 167822145.8, 348116364.6551724, 370302811.9166667, 107690.0, 215634449.8]}, \"node\": {\"label\": [[\"DSV\"], [\"HAN\"], [\"SGN\"], [\"ALS AVIATION LOGISTICS\"], [\"ALS BAC NINH CO., LTD\"], [\"BAC KY.,JSC\"], [\"CONG TY CO PHAN KHO VAN VIETFRACHT HUNG YEN\"], [\"CONG TY CO PHAN TAP DOAN PHU THAI\"], [\"CONG TY CO PHAN UNIFREIGHT GLOBAL\"], [\"CONG TY CO PHAN VAN TAI BIEN DONG PHIA NAM\"], [\"CONG TY CP CHUYEN PHAT NHANH NEW POST\"], [\"CONG TY HOP LUC - (TNHH)\"], [\"CONG TY TNHH KERRY EXPRESS (VIET NAM) CHI NHANH DA\"], [\"CONG TY TNHH KERRY EXPRESS (VIETNAM) CN BINH DUONG\"], [\"DELTA INTERNATIONAL CO.,LTD\"], [\"Kerry Express (Vietnam) Limited - Hanoi\"], [\"VAN TAI NGOAI THUONG CO.,JSC\"], [\"ALS AVIATION LOGISTICS\"], [\"ALS BAC NINH CO., LTD\"], [\"BAC KY.,JSC\"], [\"BRANCH OF NOI BAI EXPRESS AND AND TRADING JOINT ST\"], [\"CONG TY CO PHAN KHO VAN VIETFRACHT HUNG YEN\"], [\"CONG TY CO PHAN TAP DOAN PHU THAI\"], [\"CONG TY CO PHAN TM VAN TAI CHAN PHAT\"], [\"CONG TY CO PHAN UNIFREIGHT GLOBAL\"], [\"CONG TY CO PHAN VAN TAI BIEN DONG PHIA NAM\"], [\"CONG TY CP CHUYEN PHAT NHANH NEW POST\"], [\"CONG TY HOP LUC - (TNHH)\"], [\"CONG TY TNHH DICH VU VAN TAI SONG HA\"], [\"CONG TY TNHH GIAO NHAN SCT\"], [\"CONG TY TNHH KERRY EXPRESS (VIET NAM) CHI NHANH DA\"], [\"CONG TY TNHH KERRY EXPRESS (VIETNAM) CN BINH DUONG\"], [\"CONG TY TNHH VAN TAI TM-VT THANH AN\"], [\"DELTA INTERNATIONAL CO., LTD\"], [\"DELTA INTERNATIONAL CO.,LTD\"], [\"Kerry Express (Vietnam) Limited - Hanoi\"], [\"VAN TAI NGOAI THUONG CO.,JSC\"]], \"pad\": 15, \"thickness\": 5}, \"type\": \"sankey\"}],                        {\"template\": {\"data\": {\"bar\": [{\"error_x\": {\"color\": \"#2a3f5f\"}, \"error_y\": {\"color\": \"#2a3f5f\"}, \"marker\": {\"line\": {\"color\": \"#E5ECF6\", \"width\": 0.5}}, \"type\": \"bar\"}], \"barpolar\": [{\"marker\": {\"line\": {\"color\": \"#E5ECF6\", \"width\": 0.5}}, \"type\": \"barpolar\"}], \"carpet\": [{\"aaxis\": {\"endlinecolor\": \"#2a3f5f\", \"gridcolor\": \"white\", \"linecolor\": \"white\", \"minorgridcolor\": \"white\", \"startlinecolor\": \"#2a3f5f\"}, \"baxis\": {\"endlinecolor\": \"#2a3f5f\", \"gridcolor\": \"white\", \"linecolor\": \"white\", \"minorgridcolor\": \"white\", \"startlinecolor\": \"#2a3f5f\"}, \"type\": \"carpet\"}], \"choropleth\": [{\"colorbar\": {\"outlinewidth\": 0, \"ticks\": \"\"}, \"type\": \"choropleth\"}], \"contour\": [{\"colorbar\": {\"outlinewidth\": 0, \"ticks\": \"\"}, \"colorscale\": [[0.0, \"#0d0887\"], [0.1111111111111111, \"#46039f\"], [0.2222222222222222, \"#7201a8\"], [0.3333333333333333, \"#9c179e\"], [0.4444444444444444, \"#bd3786\"], [0.5555555555555556, \"#d8576b\"], [0.6666666666666666, \"#ed7953\"], [0.7777777777777778, \"#fb9f3a\"], [0.8888888888888888, \"#fdca26\"], [1.0, \"#f0f921\"]], \"type\": \"contour\"}], \"contourcarpet\": [{\"colorbar\": {\"outlinewidth\": 0, \"ticks\": \"\"}, \"type\": \"contourcarpet\"}], \"heatmap\": [{\"colorbar\": {\"outlinewidth\": 0, \"ticks\": \"\"}, \"colorscale\": [[0.0, \"#0d0887\"], [0.1111111111111111, \"#46039f\"], [0.2222222222222222, \"#7201a8\"], [0.3333333333333333, \"#9c179e\"], [0.4444444444444444, \"#bd3786\"], [0.5555555555555556, \"#d8576b\"], [0.6666666666666666, \"#ed7953\"], [0.7777777777777778, \"#fb9f3a\"], [0.8888888888888888, \"#fdca26\"], [1.0, \"#f0f921\"]], \"type\": \"heatmap\"}], \"heatmapgl\": [{\"colorbar\": {\"outlinewidth\": 0, \"ticks\": \"\"}, \"colorscale\": [[0.0, \"#0d0887\"], [0.1111111111111111, \"#46039f\"], [0.2222222222222222, \"#7201a8\"], [0.3333333333333333, \"#9c179e\"], [0.4444444444444444, \"#bd3786\"], [0.5555555555555556, \"#d8576b\"], [0.6666666666666666, \"#ed7953\"], [0.7777777777777778, \"#fb9f3a\"], [0.8888888888888888, \"#fdca26\"], [1.0, \"#f0f921\"]], \"type\": \"heatmapgl\"}], \"histogram\": [{\"marker\": {\"colorbar\": {\"outlinewidth\": 0, \"ticks\": \"\"}}, \"type\": \"histogram\"}], \"histogram2d\": [{\"colorbar\": {\"outlinewidth\": 0, \"ticks\": \"\"}, \"colorscale\": [[0.0, \"#0d0887\"], [0.1111111111111111, \"#46039f\"], [0.2222222222222222, \"#7201a8\"], [0.3333333333333333, \"#9c179e\"], [0.4444444444444444, \"#bd3786\"], [0.5555555555555556, \"#d8576b\"], [0.6666666666666666, \"#ed7953\"], [0.7777777777777778, \"#fb9f3a\"], [0.8888888888888888, \"#fdca26\"], [1.0, \"#f0f921\"]], \"type\": \"histogram2d\"}], \"histogram2dcontour\": [{\"colorbar\": {\"outlinewidth\": 0, \"ticks\": \"\"}, \"colorscale\": [[0.0, \"#0d0887\"], [0.1111111111111111, \"#46039f\"], [0.2222222222222222, \"#7201a8\"], [0.3333333333333333, \"#9c179e\"], [0.4444444444444444, \"#bd3786\"], [0.5555555555555556, \"#d8576b\"], [0.6666666666666666, \"#ed7953\"], [0.7777777777777778, \"#fb9f3a\"], [0.8888888888888888, \"#fdca26\"], [1.0, \"#f0f921\"]], \"type\": \"histogram2dcontour\"}], \"mesh3d\": [{\"colorbar\": {\"outlinewidth\": 0, \"ticks\": \"\"}, \"type\": \"mesh3d\"}], \"parcoords\": [{\"line\": {\"colorbar\": {\"outlinewidth\": 0, \"ticks\": \"\"}}, \"type\": \"parcoords\"}], \"pie\": [{\"automargin\": true, \"type\": \"pie\"}], \"scatter\": [{\"marker\": {\"colorbar\": {\"outlinewidth\": 0, \"ticks\": \"\"}}, \"type\": \"scatter\"}], \"scatter3d\": [{\"line\": {\"colorbar\": {\"outlinewidth\": 0, \"ticks\": \"\"}}, \"marker\": {\"colorbar\": {\"outlinewidth\": 0, \"ticks\": \"\"}}, \"type\": \"scatter3d\"}], \"scattercarpet\": [{\"marker\": {\"colorbar\": {\"outlinewidth\": 0, \"ticks\": \"\"}}, \"type\": \"scattercarpet\"}], \"scattergeo\": [{\"marker\": {\"colorbar\": {\"outlinewidth\": 0, \"ticks\": \"\"}}, \"type\": \"scattergeo\"}], \"scattergl\": [{\"marker\": {\"colorbar\": {\"outlinewidth\": 0, \"ticks\": \"\"}}, \"type\": \"scattergl\"}], \"scattermapbox\": [{\"marker\": {\"colorbar\": {\"outlinewidth\": 0, \"ticks\": \"\"}}, \"type\": \"scattermapbox\"}], \"scatterpolar\": [{\"marker\": {\"colorbar\": {\"outlinewidth\": 0, \"ticks\": \"\"}}, \"type\": \"scatterpolar\"}], \"scatterpolargl\": [{\"marker\": {\"colorbar\": {\"outlinewidth\": 0, \"ticks\": \"\"}}, \"type\": \"scatterpolargl\"}], \"scatterternary\": [{\"marker\": {\"colorbar\": {\"outlinewidth\": 0, \"ticks\": \"\"}}, \"type\": \"scatterternary\"}], \"surface\": [{\"colorbar\": {\"outlinewidth\": 0, \"ticks\": \"\"}, \"colorscale\": [[0.0, \"#0d0887\"], [0.1111111111111111, \"#46039f\"], [0.2222222222222222, \"#7201a8\"], [0.3333333333333333, \"#9c179e\"], [0.4444444444444444, \"#bd3786\"], [0.5555555555555556, \"#d8576b\"], [0.6666666666666666, \"#ed7953\"], [0.7777777777777778, \"#fb9f3a\"], [0.8888888888888888, \"#fdca26\"], [1.0, \"#f0f921\"]], \"type\": \"surface\"}], \"table\": [{\"cells\": {\"fill\": {\"color\": \"#EBF0F8\"}, \"line\": {\"color\": \"white\"}}, \"header\": {\"fill\": {\"color\": \"#C8D4E3\"}, \"line\": {\"color\": \"white\"}}, \"type\": \"table\"}]}, \"layout\": {\"annotationdefaults\": {\"arrowcolor\": \"#2a3f5f\", \"arrowhead\": 0, \"arrowwidth\": 1}, \"autotypenumbers\": \"strict\", \"coloraxis\": {\"colorbar\": {\"outlinewidth\": 0, \"ticks\": \"\"}}, \"colorscale\": {\"diverging\": [[0, \"#8e0152\"], [0.1, \"#c51b7d\"], [0.2, \"#de77ae\"], [0.3, \"#f1b6da\"], [0.4, \"#fde0ef\"], [0.5, \"#f7f7f7\"], [0.6, \"#e6f5d0\"], [0.7, \"#b8e186\"], [0.8, \"#7fbc41\"], [0.9, \"#4d9221\"], [1, \"#276419\"]], \"sequential\": [[0.0, \"#0d0887\"], [0.1111111111111111, \"#46039f\"], [0.2222222222222222, \"#7201a8\"], [0.3333333333333333, \"#9c179e\"], [0.4444444444444444, \"#bd3786\"], [0.5555555555555556, \"#d8576b\"], [0.6666666666666666, \"#ed7953\"], [0.7777777777777778, \"#fb9f3a\"], [0.8888888888888888, \"#fdca26\"], [1.0, \"#f0f921\"]], \"sequentialminus\": [[0.0, \"#0d0887\"], [0.1111111111111111, \"#46039f\"], [0.2222222222222222, \"#7201a8\"], [0.3333333333333333, \"#9c179e\"], [0.4444444444444444, \"#bd3786\"], [0.5555555555555556, \"#d8576b\"], [0.6666666666666666, \"#ed7953\"], [0.7777777777777778, \"#fb9f3a\"], [0.8888888888888888, \"#fdca26\"], [1.0, \"#f0f921\"]]}, \"colorway\": [\"#636efa\", \"#EF553B\", \"#00cc96\", \"#ab63fa\", \"#FFA15A\", \"#19d3f3\", \"#FF6692\", \"#B6E880\", \"#FF97FF\", \"#FECB52\"], \"font\": {\"color\": \"#2a3f5f\"}, \"geo\": {\"bgcolor\": \"white\", \"lakecolor\": \"white\", \"landcolor\": \"#E5ECF6\", \"showlakes\": true, \"showland\": true, \"subunitcolor\": \"white\"}, \"hoverlabel\": {\"align\": \"left\"}, \"hovermode\": \"closest\", \"mapbox\": {\"style\": \"light\"}, \"paper_bgcolor\": \"white\", \"plot_bgcolor\": \"#E5ECF6\", \"polar\": {\"angularaxis\": {\"gridcolor\": \"white\", \"linecolor\": \"white\", \"ticks\": \"\"}, \"bgcolor\": \"#E5ECF6\", \"radialaxis\": {\"gridcolor\": \"white\", \"linecolor\": \"white\", \"ticks\": \"\"}}, \"scene\": {\"xaxis\": {\"backgroundcolor\": \"#E5ECF6\", \"gridcolor\": \"white\", \"gridwidth\": 2, \"linecolor\": \"white\", \"showbackground\": true, \"ticks\": \"\", \"zerolinecolor\": \"white\"}, \"yaxis\": {\"backgroundcolor\": \"#E5ECF6\", \"gridcolor\": \"white\", \"gridwidth\": 2, \"linecolor\": \"white\", \"showbackground\": true, \"ticks\": \"\", \"zerolinecolor\": \"white\"}, \"zaxis\": {\"backgroundcolor\": \"#E5ECF6\", \"gridcolor\": \"white\", \"gridwidth\": 2, \"linecolor\": \"white\", \"showbackground\": true, \"ticks\": \"\", \"zerolinecolor\": \"white\"}}, \"shapedefaults\": {\"line\": {\"color\": \"#2a3f5f\"}}, \"ternary\": {\"aaxis\": {\"gridcolor\": \"white\", \"linecolor\": \"white\", \"ticks\": \"\"}, \"baxis\": {\"gridcolor\": \"white\", \"linecolor\": \"white\", \"ticks\": \"\"}, \"bgcolor\": \"#E5ECF6\", \"caxis\": {\"gridcolor\": \"white\", \"linecolor\": \"white\", \"ticks\": \"\"}}, \"title\": {\"x\": 0.05}, \"xaxis\": {\"automargin\": true, \"gridcolor\": \"white\", \"linecolor\": \"white\", \"ticks\": \"\", \"title\": {\"standoff\": 15}, \"zerolinecolor\": \"white\", \"zerolinewidth\": 2}, \"yaxis\": {\"automargin\": true, \"gridcolor\": \"white\", \"linecolor\": \"white\", \"ticks\": \"\", \"title\": {\"standoff\": 15}, \"zerolinecolor\": \"white\", \"zerolinewidth\": 2}}}},                        {\"responsive\": true}                    ).then(function(){\n",
       "                            \n",
       "var gd = document.getElementById('ce9f742e-7657-47fb-b980-f00f82c2ea6f');\n",
       "var x = new MutationObserver(function (mutations, observer) {{\n",
       "        var display = window.getComputedStyle(gd).display;\n",
       "        if (!display || display === 'none') {{\n",
       "            console.log([gd, 'removed!']);\n",
       "            Plotly.purge(gd);\n",
       "            observer.disconnect();\n",
       "        }}\n",
       "}});\n",
       "\n",
       "// Listen for the removal of the full notebook cells\n",
       "var notebookContainer = gd.closest('#notebook-container');\n",
       "if (notebookContainer) {{\n",
       "    x.observe(notebookContainer, {childList: true});\n",
       "}}\n",
       "\n",
       "// Listen for the clearing of the current output cell\n",
       "var outputEl = gd.closest('.output');\n",
       "if (outputEl) {{\n",
       "    x.observe(outputEl, {childList: true});\n",
       "}}\n",
       "\n",
       "                        })                };                });            </script>        </div>"
      ]
     },
     "metadata": {},
     "output_type": "display_data"
    }
   ],
   "source": [
    "fig = go.Figure(data)\n",
    "fig.show()"
   ]
  },
  {
   "cell_type": "code",
   "execution_count": null,
   "metadata": {},
   "outputs": [],
   "source": []
  }
 ],
 "metadata": {
  "kernelspec": {
   "display_name": "Python 3",
   "language": "python",
   "name": "python3"
  },
  "language_info": {
   "codemirror_mode": {
    "name": "ipython",
    "version": 3
   },
   "file_extension": ".py",
   "mimetype": "text/x-python",
   "name": "python",
   "nbconvert_exporter": "python",
   "pygments_lexer": "ipython3",
   "version": "3.7.6"
  }
 },
 "nbformat": 4,
 "nbformat_minor": 4
}
